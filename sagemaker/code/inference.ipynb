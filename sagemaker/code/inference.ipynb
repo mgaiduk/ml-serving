{
 "cells": [
  {
   "cell_type": "code",
   "execution_count": 7,
   "metadata": {},
   "outputs": [],
   "source": [
    "import json\n",
    "import torch\n",
    "\n",
    "from model import load_model, my_hash, parse_json\n"
   ]
  },
  {
   "cell_type": "code",
   "execution_count": 8,
   "metadata": {},
   "outputs": [],
   "source": [
    "user_ids = [\"f34d7147-9d39-4145-bc7e-3a3c05029035\", \"46b5b420-3317-4a14-9c90-9dc4206cf960\"]\n",
    "media_ids = [\"01HEKK737WXFC9TWQ036XDS0QH\", \"01H2K82V8XCKGD882FPQ3TQ9WF\"]\n"
   ]
  },
  {
   "cell_type": "code",
   "execution_count": 9,
   "metadata": {},
   "outputs": [
    {
     "data": {
      "text/plain": [
       "CollaborativeFilteringModel(\n",
       "  (user_embedding): Embedding(50000, 4)\n",
       "  (post_embedding): Embedding(1800, 4)\n",
       ")"
      ]
     },
     "execution_count": 9,
     "metadata": {},
     "output_type": "execute_result"
    }
   ],
   "source": [
    "model = load_model(\"model_dir/model.pth\")\n",
    "model"
   ]
  },
  {
   "cell_type": "code",
   "execution_count": 10,
   "metadata": {},
   "outputs": [
    {
     "data": {
      "text/plain": [
       "(tensor([2801485989, 3674906565]), tensor([437423269, 306905446]))"
      ]
     },
     "execution_count": 10,
     "metadata": {},
     "output_type": "execute_result"
    }
   ],
   "source": [
    "ut = torch.tensor(list(map(lambda x: my_hash(x), user_ids)))\n",
    "mt = torch.tensor(list(map(lambda x: my_hash(x), media_ids)))\n",
    "ut, mt"
   ]
  },
  {
   "cell_type": "code",
   "execution_count": 11,
   "metadata": {},
   "outputs": [
    {
     "data": {
      "text/plain": [
       "tensor([0.2007, 0.5149], grad_fn=<SigmoidBackward0>)"
      ]
     },
     "execution_count": 11,
     "metadata": {},
     "output_type": "execute_result"
    }
   ],
   "source": [
    "model(ut, mt)"
   ]
  },
  {
   "cell_type": "code",
   "execution_count": 14,
   "metadata": {},
   "outputs": [
    {
     "data": {
      "text/plain": [
       "'\\n{\\n    \"user_ids\": [\"f34d7147-9d39-4145-bc7e-3a3c05029035\", \"46b5b420-3317-4a14-9c90-9dc4206cf960\"],\\n    \"media_ids\": [\"01HEKK737WXFC9TWQ036XDS0QH\", \"01H2K82V8XCKGD882FPQ3TQ9WF\"]\\n}\\n'"
      ]
     },
     "execution_count": 14,
     "metadata": {},
     "output_type": "execute_result"
    }
   ],
   "source": [
    "js = \"\"\"\n",
    "{\n",
    "    \"user_ids\": [\"f34d7147-9d39-4145-bc7e-3a3c05029035\", \"46b5b420-3317-4a14-9c90-9dc4206cf960\"],\n",
    "    \"media_ids\": [\"01HEKK737WXFC9TWQ036XDS0QH\", \"01H2K82V8XCKGD882FPQ3TQ9WF\"]\n",
    "}\n",
    "\"\"\"\n",
    "# js = json.loads(js)\n",
    "js"
   ]
  },
  {
   "cell_type": "code",
   "execution_count": 15,
   "metadata": {},
   "outputs": [
    {
     "data": {
      "text/plain": [
       "tensor([0.2007, 0.5149], grad_fn=<SigmoidBackward0>)"
      ]
     },
     "execution_count": 15,
     "metadata": {},
     "output_type": "execute_result"
    }
   ],
   "source": [
    "ut, mt = parse_json(js)\n",
    "model(ut, mt)"
   ]
  }
 ],
 "metadata": {
  "kernelspec": {
   "display_name": "sagemaker",
   "language": "python",
   "name": "python3"
  },
  "language_info": {
   "codemirror_mode": {
    "name": "ipython",
    "version": 3
   },
   "file_extension": ".py",
   "mimetype": "text/x-python",
   "name": "python",
   "nbconvert_exporter": "python",
   "pygments_lexer": "ipython3",
   "version": "3.10.13"
  }
 },
 "nbformat": 4,
 "nbformat_minor": 2
}
