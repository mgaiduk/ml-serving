{
 "cells": [
  {
   "cell_type": "code",
   "execution_count": 1,
   "metadata": {},
   "outputs": [],
   "source": [
    "import xgboost as xgb\n",
    "import boto3\n",
    "boto3.setup_default_session(profile_name='ml-staging-admin')\n",
    "# Create a low-level client representing Amazon SageMaker Runtime\n",
    "sagemaker_runtime = boto3.client(\n",
    "    \"sagemaker-runtime\", region_name='us-east-1',)\n",
    "\n",
    "# The endpoint name must be unique within \n",
    "# an AWS Region in your AWS account. \n",
    "\n",
    "\n"
   ]
  },
  {
   "cell_type": "code",
   "execution_count": 1,
   "metadata": {},
   "outputs": [
    {
     "data": {
      "text/plain": [
       "CollaborativeFilteringModel(\n",
       "  (user_embedding): Embedding(50000, 4)\n",
       "  (post_embedding): Embedding(1800, 4)\n",
       ")"
      ]
     },
     "execution_count": 1,
     "metadata": {},
     "output_type": "execute_result"
    }
   ],
   "source": [
    "from inference import load_model\n",
    "model = load_model(\"model_dir/model.pth\")\n",
    "model"
   ]
  },
  {
   "cell_type": "code",
   "execution_count": 19,
   "metadata": {},
   "outputs": [],
   "source": [
    "endpoint_name='pytorch'\n",
    "payload = \"\"\"\n",
    "{\n",
    "    \"user_ids\": [\"f34d7147-9d39-4145-bc7e-3a3c05029035\", \"46b5b420-3317-4a14-9c90-9dc4206cf960\"],\n",
    "    \"media_ids\": [\"01HEKK737WXFC9TWQ036XDS0QH\", \"01H2K82V8XCKGD882FPQ3TQ9WF\"]\n",
    "}\n",
    "\"\"\"\n",
    "\n",
    "response = sagemaker_runtime.invoke_endpoint(\n",
    "        EndpointName=endpoint_name,\n",
    "        Body=payload,\n",
    "        ContentType=\"application/json\",\n",
    "    )"
   ]
  },
  {
   "cell_type": "code",
   "execution_count": 20,
   "metadata": {},
   "outputs": [
    {
     "data": {
      "text/plain": [
       "'[1.7912640032591298e-05, 8.310284101753496e-06]'"
      ]
     },
     "execution_count": 20,
     "metadata": {},
     "output_type": "execute_result"
    }
   ],
   "source": [
    "response_body_str = response['Body'].read().decode('utf-8')\n",
    "response_body_str"
   ]
  },
  {
   "cell_type": "code",
   "execution_count": 14,
   "metadata": {},
   "outputs": [
    {
     "data": {
      "text/plain": [
       "'[0.057794563472270966, 0.5942961573600769]'"
      ]
     },
     "execution_count": 14,
     "metadata": {},
     "output_type": "execute_result"
    }
   ],
   "source": [
    "response_body_str = response['Body'].read().decode('utf-8')\n",
    "response_body_str"
   ]
  },
  {
   "cell_type": "code",
   "execution_count": 12,
   "metadata": {},
   "outputs": [
    {
     "data": {
      "text/plain": [
       "'[0.29079851508140564, 0.5262398719787598]'"
      ]
     },
     "execution_count": 12,
     "metadata": {},
     "output_type": "execute_result"
    }
   ],
   "source": [
    "response_body_str = response['Body'].read().decode('utf-8')\n",
    "response_body_str"
   ]
  },
  {
   "cell_type": "code",
   "execution_count": 10,
   "metadata": {},
   "outputs": [
    {
     "data": {
      "text/plain": [
       "'[0.11442302167415619, 0.5362706184387207]'"
      ]
     },
     "execution_count": 10,
     "metadata": {},
     "output_type": "execute_result"
    }
   ],
   "source": [
    "response_body_str = response['Body'].read().decode('utf-8')\n",
    "response_body_str"
   ]
  }
 ],
 "metadata": {
  "kernelspec": {
   "display_name": "Python 3",
   "language": "python",
   "name": "python3"
  },
  "language_info": {
   "codemirror_mode": {
    "name": "ipython",
    "version": 3
   },
   "file_extension": ".py",
   "mimetype": "text/x-python",
   "name": "python",
   "nbconvert_exporter": "python",
   "pygments_lexer": "ipython3",
   "version": "3.10.13"
  }
 },
 "nbformat": 4,
 "nbformat_minor": 2
}
