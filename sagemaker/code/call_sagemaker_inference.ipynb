{
 "cells": [
  {
   "cell_type": "code",
   "execution_count": 3,
   "metadata": {},
   "outputs": [],
   "source": [
    "import xgboost as xgb\n",
    "import boto3\n",
    "boto3.setup_default_session(profile_name='ml-staging-admin')\n",
    "# Create a low-level client representing Amazon SageMaker Runtime\n",
    "sagemaker_runtime = boto3.client(\n",
    "    \"sagemaker-runtime\", region_name='us-east-1',)\n",
    "\n",
    "# The endpoint name must be unique within \n",
    "# an AWS Region in your AWS account. \n",
    "\n",
    "\n"
   ]
  },
  {
   "cell_type": "code",
   "execution_count": 1,
   "metadata": {},
   "outputs": [
    {
     "data": {
      "text/plain": [
       "CollaborativeFilteringModel(\n",
       "  (user_embedding): Embedding(50000, 4)\n",
       "  (post_embedding): Embedding(1800, 4)\n",
       ")"
      ]
     },
     "execution_count": 1,
     "metadata": {},
     "output_type": "execute_result"
    }
   ],
   "source": [
    "from inference import load_model\n",
    "model = load_model(\"model_dir/model.pth\")\n",
    "model"
   ]
  },
  {
   "cell_type": "code",
   "execution_count": 5,
   "metadata": {},
   "outputs": [],
   "source": [
    "endpoint_name='pytorch2'\n",
    "payload = \"\"\"\n",
    "{\n",
    "    \"user_ids\": [\"f34d7147-9d39-4145-bc7e-3a3c05029035\", \"46b5b420-3317-4a14-9c90-9dc4206cf960\"],\n",
    "    \"media_ids\": [\"01HEKK737WXFC9TWQ036XDS0QH\", \"01H2K82V8XCKGD882FPQ3TQ9WF\"]\n",
    "}\n",
    "\"\"\"\n",
    "\n",
    "response = sagemaker_runtime.invoke_endpoint(\n",
    "        EndpointName=endpoint_name,\n",
    "        Body=payload,\n",
    "        ContentType=\"application/json\",\n",
    "    )"
   ]
  },
  {
   "cell_type": "code",
   "execution_count": 6,
   "metadata": {},
   "outputs": [
    {
     "data": {
      "text/plain": [
       "{'ResponseMetadata': {'RequestId': '8446eaad-d4da-4ea7-ac30-0b954a23491c',\n",
       "  'HTTPStatusCode': 200,\n",
       "  'HTTPHeaders': {'x-amzn-requestid': '8446eaad-d4da-4ea7-ac30-0b954a23491c',\n",
       "   'x-amzn-invoked-production-variant': 'variant-name-1',\n",
       "   'date': 'Mon, 04 Mar 2024 19:14:04 GMT',\n",
       "   'content-type': 'application/json',\n",
       "   'content-length': '41',\n",
       "   'connection': 'keep-alive'},\n",
       "  'RetryAttempts': 0},\n",
       " 'ContentType': 'application/json',\n",
       " 'InvokedProductionVariant': 'variant-name-1',\n",
       " 'Body': <botocore.response.StreamingBody at 0x7f13597e1750>}"
      ]
     },
     "execution_count": 6,
     "metadata": {},
     "output_type": "execute_result"
    }
   ],
   "source": [
    "response"
   ]
  },
  {
   "cell_type": "code",
   "execution_count": 7,
   "metadata": {},
   "outputs": [
    {
     "data": {
      "text/plain": [
       "'[0.14748752117156982, 0.8654617071151733]'"
      ]
     },
     "execution_count": 7,
     "metadata": {},
     "output_type": "execute_result"
    }
   ],
   "source": [
    "response_body_str = response['Body'].read().decode('utf-8')\n",
    "response_body_str"
   ]
  }
 ],
 "metadata": {
  "kernelspec": {
   "display_name": "Python 3",
   "language": "python",
   "name": "python3"
  },
  "language_info": {
   "codemirror_mode": {
    "name": "ipython",
    "version": 3
   },
   "file_extension": ".py",
   "mimetype": "text/x-python",
   "name": "python",
   "nbconvert_exporter": "python",
   "pygments_lexer": "ipython3",
   "version": "3.10.13"
  }
 },
 "nbformat": 4,
 "nbformat_minor": 2
}
