{
 "cells": [
  {
   "cell_type": "code",
   "execution_count": 11,
   "metadata": {},
   "outputs": [],
   "source": [
    "import boto3\n",
    "from datetime import datetime\n",
    "from sagemaker.compute_resource_requirements.resource_requirements import ResourceRequirements\n",
    "from sagemaker.predictor import Predictor\n",
    "from sagemaker.enums import EndpointType\n",
    "from sagemaker.model import Model\n",
    "from sagemaker.session import Session\n",
    "\n",
    "from sagemaker.pytorch import PyTorchModel\n",
    "import sagemaker\n",
    "\n",
    "from sagemaker.pipeline import PipelineModel"
   ]
  },
  {
   "cell_type": "code",
   "execution_count": 6,
   "metadata": {},
   "outputs": [],
   "source": [
    "session = boto3.session.Session(profile_name=\"ml-staging-admin\")\n",
    "sagemaker_session = sagemaker.Session(session)"
   ]
  },
  {
   "cell_type": "code",
   "execution_count": 50,
   "metadata": {},
   "outputs": [],
   "source": [
    "model_name = \"pytorch\"\n",
    "sagemaker_session.delete_model(model_name=model_name)"
   ]
  },
  {
   "cell_type": "code",
   "execution_count": 71,
   "metadata": {},
   "outputs": [],
   "source": [
    "model_data = \"s3://sagemaker-us-east-1-767397884728/pipelines-ayagjxv2advg-PyTorchModelTraining-d3wESbz0as/output/model.tar.gz\"\n",
    "role = \"arn:aws:iam::767397884728:role/SageMakerSnowFlakeExampleIAMRole-\"\n",
    "\n",
    "pytorch_model = PyTorchModel(\n",
    "    model_data=model_data,\n",
    "    role=role,\n",
    "    framework_version='1.11.0',\n",
    "    source_dir=\"code\",\n",
    "    entry_point='inference.py',\n",
    "    py_version='py38',\n",
    "    sagemaker_session=sagemaker_session,\n",
    "    name=model_name,\n",
    ")\n",
    "\n",
    "endpoint_name = \"pytorch\""
   ]
  },
  {
   "cell_type": "code",
   "execution_count": 72,
   "metadata": {},
   "outputs": [],
   "source": [
    "pipeline_model_name = \"pipeline\"\n",
    "try:\n",
    "    sagemaker_session.delete_model(model_name=pipeline_model_name)\n",
    "except:\n",
    "    pass\n",
    "pipeline_model = PipelineModel(models=[pytorch_model],role=role,sagemaker_session=sagemaker_session,\n",
    "                               name=pipeline_model_name)\n"
   ]
  },
  {
   "cell_type": "code",
   "execution_count": 63,
   "metadata": {},
   "outputs": [],
   "source": [
    "endpoint_config_name = \"pytorch\"\n",
    "sagemaker_session.delete_endpoint_config(endpoint_config_name=endpoint_config_name)"
   ]
  },
  {
   "cell_type": "code",
   "execution_count": 75,
   "metadata": {},
   "outputs": [],
   "source": [
    "sagemaker_session.delete_endpoint_config(endpoint_config_name=\"pipeline\")\n"
   ]
  },
  {
   "cell_type": "code",
   "execution_count": 69,
   "metadata": {},
   "outputs": [],
   "source": [
    "sagemaker_session.delete_endpoint_config(endpoint_config_name=\"pytorch\")"
   ]
  },
  {
   "cell_type": "code",
   "execution_count": 76,
   "metadata": {},
   "outputs": [
    {
     "name": "stderr",
     "output_type": "stream",
     "text": [
      "Using already existing model: pipeline\n"
     ]
    },
    {
     "name": "stdout",
     "output_type": "stream",
     "text": [
      "---------!"
     ]
    }
   ],
   "source": [
    "pipeline_model.deploy(instance_type='ml.m4.xlarge',\n",
    "    initial_instance_count=1,\n",
    "    endpoint_name=endpoint_name,\n",
    "    update_endpoint=True)"
   ]
  },
  {
   "cell_type": "code",
   "execution_count": 59,
   "metadata": {},
   "outputs": [
    {
     "name": "stderr",
     "output_type": "stream",
     "text": [
      "Using already existing model: pipeline\n",
      "Using already existing model: pipeline\n"
     ]
    },
    {
     "name": "stdout",
     "output_type": "stream",
     "text": [
      "---------!"
     ]
    }
   ],
   "source": [
    "endpoint_name = \"pytorch\"\n",
    "\n",
    "try:\n",
    "    pipeline_model.deploy(instance_type='ml.m4.xlarge',\n",
    "    initial_instance_count=1,\n",
    "    endpoint_name=endpoint_name,\n",
    "    update_endpoint=True)\n",
    "except:\n",
    "    pipeline_model.deploy(instance_type='ml.m4.xlarge',\n",
    "    initial_instance_count=1,\n",
    "    endpoint_name=endpoint_name)"
   ]
  },
  {
   "cell_type": "code",
   "execution_count": null,
   "metadata": {},
   "outputs": [],
   "source": [
    "endpoint_name = \"pytorch2\"\n",
    "boto3.setup_default_session(profile_name='ml-staging-admin')\n",
    "sagemaker = boto3.client('sagemaker')\n",
    "response = sagemaker.describe_endpoint(EndpointName=endpoint_name)"
   ]
  },
  {
   "cell_type": "code",
   "execution_count": 5,
   "metadata": {},
   "outputs": [],
   "source": [
    "model_url = \"s3://sagemaker-us-east-1-767397884728/pipelines-tb0bu096mijb-PyTorchModelTraining-uHuJLpDXQs/output/model.tar.gz\""
   ]
  },
  {
   "cell_type": "code",
   "execution_count": 6,
   "metadata": {},
   "outputs": [
    {
     "data": {
      "text/plain": [
       "{'EndpointConfigArn': 'arn:aws:sagemaker:us-east-1:767397884728:endpoint-config/ipynb-pytorch3',\n",
       " 'ResponseMetadata': {'RequestId': '66f922cf-ddac-4288-bc1f-e611f8306351',\n",
       "  'HTTPStatusCode': 200,\n",
       "  'HTTPHeaders': {'x-amzn-requestid': '66f922cf-ddac-4288-bc1f-e611f8306351',\n",
       "   'content-type': 'application/x-amz-json-1.1',\n",
       "   'content-length': '95',\n",
       "   'date': 'Mon, 04 Mar 2024 19:51:33 GMT'},\n",
       "  'RetryAttempts': 0}}"
      ]
     },
     "execution_count": 6,
     "metadata": {},
     "output_type": "execute_result"
    }
   ],
   "source": [
    "endpoint_config_name = 'ipynb-pytorch3'\n",
    "model_name = \"pipelines-tb0bu096mijb-CreateModel-CreateMo-gPgOKBnQn4\"\n",
    "create_endpoint_config_response = sagemaker.create_endpoint_config(\n",
    "    EndpointConfigName=endpoint_config_name,\n",
    "    ProductionVariants=[\n",
    "        {\n",
    "            'VariantName': 'AllTraffic',\n",
    "            'ModelName': model_name,\n",
    "            'InstanceType': 'ml.m4.xlarge',\n",
    "            'InitialInstanceCount': 1,\n",
    "        },\n",
    "    ],\n",
    ")\n",
    "create_endpoint_config_response"
   ]
  },
  {
   "cell_type": "code",
   "execution_count": 7,
   "metadata": {},
   "outputs": [],
   "source": [
    "endpoint_name = 'ipynb-pytorch'\n",
    "create_endpoint_response = sagemaker.create_endpoint(\n",
    "    EndpointName=endpoint_name,\n",
    "    EndpointConfigName=endpoint_config_name,\n",
    ")"
   ]
  },
  {
   "cell_type": "code",
   "execution_count": 8,
   "metadata": {},
   "outputs": [
    {
     "data": {
      "text/plain": [
       "{'EndpointArn': 'arn:aws:sagemaker:us-east-1:767397884728:endpoint/ipynb-pytorch',\n",
       " 'ResponseMetadata': {'RequestId': 'bee51cff-65b6-421b-b395-9692d29cabc0',\n",
       "  'HTTPStatusCode': 200,\n",
       "  'HTTPHeaders': {'x-amzn-requestid': 'bee51cff-65b6-421b-b395-9692d29cabc0',\n",
       "   'content-type': 'application/x-amz-json-1.1',\n",
       "   'content-length': '81',\n",
       "   'date': 'Mon, 04 Mar 2024 19:51:47 GMT'},\n",
       "  'RetryAttempts': 0}}"
      ]
     },
     "execution_count": 8,
     "metadata": {},
     "output_type": "execute_result"
    }
   ],
   "source": [
    "create_endpoint_response"
   ]
  },
  {
   "cell_type": "code",
   "execution_count": null,
   "metadata": {},
   "outputs": [],
   "source": [
    "\n",
    "resources = ResourceRequirements(\n",
    "    requests = {\n",
    "        \"num_cpus\": 2,  # Number of CPU cores required:\n",
    "        \"memory\": 1024,  # Minimum memory required in Mb (required)\n",
    "        \"copies\": 1,\n",
    "    },\n",
    "    limits = {},\n",
    ")\n",
    "model_name = \"pytorch3\""
   ]
  },
  {
   "cell_type": "code",
   "execution_count": 3,
   "metadata": {},
   "outputs": [
    {
     "data": {
      "text/plain": [
       "{'EndpointName': 'pytorch2',\n",
       " 'EndpointArn': 'arn:aws:sagemaker:us-east-1:767397884728:endpoint/pytorch2',\n",
       " 'EndpointConfigName': 'pytorch2',\n",
       " 'ProductionVariants': [{'VariantName': 'variant-name-1',\n",
       "   'DeployedImages': [{'SpecifiedImage': '763104351884.dkr.ecr.us-east-1.amazonaws.com/pytorch-inference:1.11.0-cpu-py38',\n",
       "     'ResolvedImage': '763104351884.dkr.ecr.us-east-1.amazonaws.com/pytorch-inference@sha256:60beb640d60a3b59a8304aa622a07d606a7f89e0714484112e774094cccbcbc1',\n",
       "     'ResolutionTime': datetime.datetime(2024, 3, 4, 19, 5, 40, 370000, tzinfo=tzlocal())}],\n",
       "   'CurrentWeight': 1.0,\n",
       "   'DesiredWeight': 1.0,\n",
       "   'CurrentInstanceCount': 1,\n",
       "   'DesiredInstanceCount': 1}],\n",
       " 'EndpointStatus': 'InService',\n",
       " 'CreationTime': datetime.datetime(2024, 3, 4, 19, 5, 39, 492000, tzinfo=tzlocal()),\n",
       " 'LastModifiedTime': datetime.datetime(2024, 3, 4, 19, 11, 29, 738000, tzinfo=tzlocal()),\n",
       " 'ResponseMetadata': {'RequestId': '4f6cd69f-864c-4819-948b-22eabe70faf3',\n",
       "  'HTTPStatusCode': 200,\n",
       "  'HTTPHeaders': {'x-amzn-requestid': '4f6cd69f-864c-4819-948b-22eabe70faf3',\n",
       "   'content-type': 'application/x-amz-json-1.1',\n",
       "   'content-length': '682',\n",
       "   'date': 'Mon, 04 Mar 2024 19:34:03 GMT'},\n",
       "  'RetryAttempts': 0}}"
      ]
     },
     "execution_count": 3,
     "metadata": {},
     "output_type": "execute_result"
    }
   ],
   "source": [
    "response"
   ]
  },
  {
   "cell_type": "code",
   "execution_count": 4,
   "metadata": {},
   "outputs": [
    {
     "ename": "ClientError",
     "evalue": "An error occurred (ValidationException) when calling the CreateEndpoint operation: Could not find endpoint configuration \"pipelines-tb0bu096mijb-CreateModel-CreateMo-gPgOKBnQn4\".",
     "output_type": "error",
     "traceback": [
      "\u001b[0;31m---------------------------------------------------------------------------\u001b[0m",
      "\u001b[0;31mClientError\u001b[0m                               Traceback (most recent call last)",
      "Cell \u001b[0;32mIn[4], line 3\u001b[0m\n\u001b[1;32m      1\u001b[0m model_name \u001b[38;5;241m=\u001b[39m \u001b[38;5;124m\"\u001b[39m\u001b[38;5;124mpipelines-tb0bu096mijb-CreateModel-CreateMo-gPgOKBnQn4\u001b[39m\u001b[38;5;124m\"\u001b[39m\n\u001b[1;32m      2\u001b[0m endpoint_name \u001b[38;5;241m=\u001b[39m \u001b[38;5;124m\"\u001b[39m\u001b[38;5;124mpytorch3\u001b[39m\u001b[38;5;124m\"\u001b[39m\n\u001b[0;32m----> 3\u001b[0m create_response \u001b[38;5;241m=\u001b[39m \u001b[43msagemaker\u001b[49m\u001b[38;5;241;43m.\u001b[39;49m\u001b[43mcreate_endpoint\u001b[49m\u001b[43m(\u001b[49m\n\u001b[1;32m      4\u001b[0m \u001b[43m    \u001b[49m\u001b[43mEndpointName\u001b[49m\u001b[38;5;241;43m=\u001b[39;49m\u001b[43mendpoint_name\u001b[49m\u001b[43m,\u001b[49m\n\u001b[1;32m      5\u001b[0m \u001b[43m    \u001b[49m\u001b[43mEndpointConfigName\u001b[49m\u001b[38;5;241;43m=\u001b[39;49m\u001b[43mmodel_name\u001b[49m\u001b[43m  \u001b[49m\u001b[38;5;66;43;03m# Assuming the EndpointConfig has the same name as the ModelName\u001b[39;49;00m\n\u001b[1;32m      6\u001b[0m \u001b[43m)\u001b[49m\n\u001b[1;32m      7\u001b[0m create_response\n",
      "File \u001b[0;32m~/.local/lib/python3.10/site-packages/botocore/client.py:553\u001b[0m, in \u001b[0;36mClientCreator._create_api_method.<locals>._api_call\u001b[0;34m(self, *args, **kwargs)\u001b[0m\n\u001b[1;32m    549\u001b[0m     \u001b[38;5;28;01mraise\u001b[39;00m \u001b[38;5;167;01mTypeError\u001b[39;00m(\n\u001b[1;32m    550\u001b[0m         \u001b[38;5;124mf\u001b[39m\u001b[38;5;124m\"\u001b[39m\u001b[38;5;132;01m{\u001b[39;00mpy_operation_name\u001b[38;5;132;01m}\u001b[39;00m\u001b[38;5;124m() only accepts keyword arguments.\u001b[39m\u001b[38;5;124m\"\u001b[39m\n\u001b[1;32m    551\u001b[0m     )\n\u001b[1;32m    552\u001b[0m \u001b[38;5;66;03m# The \"self\" in this scope is referring to the BaseClient.\u001b[39;00m\n\u001b[0;32m--> 553\u001b[0m \u001b[38;5;28;01mreturn\u001b[39;00m \u001b[38;5;28;43mself\u001b[39;49m\u001b[38;5;241;43m.\u001b[39;49m\u001b[43m_make_api_call\u001b[49m\u001b[43m(\u001b[49m\u001b[43moperation_name\u001b[49m\u001b[43m,\u001b[49m\u001b[43m \u001b[49m\u001b[43mkwargs\u001b[49m\u001b[43m)\u001b[49m\n",
      "File \u001b[0;32m~/.local/lib/python3.10/site-packages/botocore/client.py:1009\u001b[0m, in \u001b[0;36mBaseClient._make_api_call\u001b[0;34m(self, operation_name, api_params)\u001b[0m\n\u001b[1;32m   1005\u001b[0m     error_code \u001b[38;5;241m=\u001b[39m error_info\u001b[38;5;241m.\u001b[39mget(\u001b[38;5;124m\"\u001b[39m\u001b[38;5;124mQueryErrorCode\u001b[39m\u001b[38;5;124m\"\u001b[39m) \u001b[38;5;129;01mor\u001b[39;00m error_info\u001b[38;5;241m.\u001b[39mget(\n\u001b[1;32m   1006\u001b[0m         \u001b[38;5;124m\"\u001b[39m\u001b[38;5;124mCode\u001b[39m\u001b[38;5;124m\"\u001b[39m\n\u001b[1;32m   1007\u001b[0m     )\n\u001b[1;32m   1008\u001b[0m     error_class \u001b[38;5;241m=\u001b[39m \u001b[38;5;28mself\u001b[39m\u001b[38;5;241m.\u001b[39mexceptions\u001b[38;5;241m.\u001b[39mfrom_code(error_code)\n\u001b[0;32m-> 1009\u001b[0m     \u001b[38;5;28;01mraise\u001b[39;00m error_class(parsed_response, operation_name)\n\u001b[1;32m   1010\u001b[0m \u001b[38;5;28;01melse\u001b[39;00m:\n\u001b[1;32m   1011\u001b[0m     \u001b[38;5;28;01mreturn\u001b[39;00m parsed_response\n",
      "\u001b[0;31mClientError\u001b[0m: An error occurred (ValidationException) when calling the CreateEndpoint operation: Could not find endpoint configuration \"pipelines-tb0bu096mijb-CreateModel-CreateMo-gPgOKBnQn4\"."
     ]
    }
   ],
   "source": [
    "model_name = \"pipelines-tb0bu096mijb-CreateModel-CreateMo-gPgOKBnQn4\"\n",
    "endpoint_name = \"pytorch3\"\n",
    "create_response = sagemaker.create_endpoint(\n",
    "    EndpointName=endpoint_name,\n",
    "    EndpointConfigName=model_name  # Assuming the EndpointConfig has the same name as the ModelName\n",
    ")\n",
    "create_response"
   ]
  }
 ],
 "metadata": {
  "kernelspec": {
   "display_name": "sagemaker",
   "language": "python",
   "name": "python3"
  },
  "language_info": {
   "codemirror_mode": {
    "name": "ipython",
    "version": 3
   },
   "file_extension": ".py",
   "mimetype": "text/x-python",
   "name": "python",
   "nbconvert_exporter": "python",
   "pygments_lexer": "ipython3",
   "version": "3.10.13"
  }
 },
 "nbformat": 4,
 "nbformat_minor": 2
}
