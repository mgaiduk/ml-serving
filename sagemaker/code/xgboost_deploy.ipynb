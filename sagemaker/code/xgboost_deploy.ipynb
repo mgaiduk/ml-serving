{
 "cells": [
  {
   "cell_type": "code",
   "execution_count": 1,
   "metadata": {},
   "outputs": [
    {
     "name": "stdout",
     "output_type": "stream",
     "text": [
      "sagemaker.config INFO - Not applying SDK defaults from location: /etc/xdg/sagemaker/config.yaml\n",
      "sagemaker.config INFO - Not applying SDK defaults from location: /home/mak/.config/sagemaker/config.yaml\n"
     ]
    }
   ],
   "source": [
    "import os\n",
    "import boto3\n",
    "import argparse\n",
    "import sagemaker\n",
    "from datetime import datetime\n",
    "from sagemaker.compute_resource_requirements.resource_requirements import ResourceRequirements\n",
    "from sagemaker.predictor import Predictor\n",
    "from sagemaker.enums import EndpointType\n",
    "from sagemaker.model import Model\n",
    "from sagemaker.session import Session\n",
    "from sagemaker.xgboost import XGBoostModel\n",
    "from sagemaker.pipeline import PipelineModel"
   ]
  },
  {
   "cell_type": "code",
   "execution_count": 2,
   "metadata": {},
   "outputs": [],
   "source": [
    "model_name = \"xgboost\"\n",
    "endpoint_name = \"xgboost\"\n",
    "endpoint_config_name = \"xgboost\"\n",
    "role = \"arn:aws:iam::767397884728:role/SageMakerSnowFlakeExampleIAMRole-\"\n",
    "# boto3.setup_default_session(profile_name='ml-staging-admin')\n",
    "region = \"us-east-1\"\n",
    "os.environ[\"AWS_DEFAULT_REGION\"] = region\n",
    "session = boto3.session.Session(profile_name=\"ml-staging-admin\")\n",
    "sagemaker_session = sagemaker.Session(session)\n"
   ]
  },
  {
   "cell_type": "code",
   "execution_count": 3,
   "metadata": {},
   "outputs": [],
   "source": [
    "model_data = \"s3://sagemaker-us-east-1-767397884728/pipelines-zfpv1p4n1mci-XgBoostModelTraining-sd99CPgt5T/output/model.tar.gz\"\n",
    "xgboost_model = XGBoostModel(\n",
    "    model_data=model_data,\n",
    "    role=role,\n",
    "    framework_version='1.7-1',\n",
    "    source_dir=\"code\",\n",
    "    entry_point='xgboost_inference.py',\n",
    "    sagemaker_session=sagemaker_session,\n",
    "    name=model_name,\n",
    ")"
   ]
  },
  {
   "cell_type": "code",
   "execution_count": 4,
   "metadata": {},
   "outputs": [
    {
     "name": "stderr",
     "output_type": "stream",
     "text": [
      "Using already existing model: xgboostpipeline\n"
     ]
    },
    {
     "name": "stdout",
     "output_type": "stream",
     "text": [
      "-----------------!"
     ]
    }
   ],
   "source": [
    "pipeline_model_name = \"xgboostpipeline\"\n",
    "pipeline_model = PipelineModel(models=[xgboost_model],role=role,sagemaker_session=sagemaker_session,\n",
    "                                name=pipeline_model_name)\n",
    "pipeline_model.deploy(instance_type='ml.m4.xlarge',\n",
    "        initial_instance_count=1,\n",
    "        endpoint_name=endpoint_name)"
   ]
  }
 ],
 "metadata": {
  "kernelspec": {
   "display_name": "sagemaker",
   "language": "python",
   "name": "python3"
  },
  "language_info": {
   "codemirror_mode": {
    "name": "ipython",
    "version": 3
   },
   "file_extension": ".py",
   "mimetype": "text/x-python",
   "name": "python",
   "nbconvert_exporter": "python",
   "pygments_lexer": "ipython3",
   "version": "3.10.13"
  }
 },
 "nbformat": 4,
 "nbformat_minor": 2
}
