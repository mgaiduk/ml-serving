{
 "cells": [
  {
   "cell_type": "code",
   "execution_count": 28,
   "metadata": {},
   "outputs": [],
   "source": [
    "import boto3\n",
    "import time\n",
    "import concurrent.futures\n",
    "\n",
    "\n",
    "# Configure your AWS profile and table name\n",
    "aws_profile = 'feed-staging-admin'\n",
    "table_name = 'staging-v2-community-feed-features'\n"
   ]
  },
  {
   "cell_type": "code",
   "execution_count": 13,
   "metadata": {},
   "outputs": [],
   "source": [
    "limit = 10000"
   ]
  },
  {
   "cell_type": "code",
   "execution_count": 14,
   "metadata": {},
   "outputs": [],
   "source": [
    "session = boto3.Session(profile_name=aws_profile)\n",
    "\n",
    "# Create a DynamoDB service client\n",
    "dynamodb = session.client('dynamodb')\n",
    "\n",
    "# scanning for keys\n",
    "items = []\n",
    "\n",
    "# Initialize the scan operation\n",
    "response = dynamodb.scan(\n",
    "    TableName=table_name,\n",
    "    Limit=1000  # Adjust this to manage read throughput more effectively\n",
    ")\n",
    "\n",
    "# Add the items from the first scan to the list\n",
    "items.extend(response.get('Items', []))\n",
    "\n",
    "# Continue scanning if more items are available and you haven't reached 1000 items yet\n",
    "while 'LastEvaluatedKey' in response and len(items) < limit:\n",
    "    response = dynamodb.scan(\n",
    "        TableName=table_name,\n",
    "        ExclusiveStartKey=response['LastEvaluatedKey'],\n",
    "        Limit=1000  # Adjusting this limit may help manage read throughput\n",
    "    )\n",
    "    items.extend(response.get('Items', []))\n",
    "    if len(items) >= limit:\n",
    "        break"
   ]
  },
  {
   "cell_type": "code",
   "execution_count": 15,
   "metadata": {},
   "outputs": [
    {
     "data": {
      "text/plain": [
       "2695"
      ]
     },
     "execution_count": 15,
     "metadata": {},
     "output_type": "execute_result"
    }
   ],
   "source": [
    "len(items)"
   ]
  },
  {
   "cell_type": "code",
   "execution_count": 16,
   "metadata": {},
   "outputs": [
    {
     "data": {
      "text/plain": [
       "'FEATURE_NAME#CFMediaAddedCommentSignal'"
      ]
     },
     "execution_count": 16,
     "metadata": {},
     "output_type": "execute_result"
    }
   ],
   "source": [
    "item = items[0]\n",
    "item[\"sk\"][\"S\"]"
   ]
  },
  {
   "cell_type": "code",
   "execution_count": 17,
   "metadata": {},
   "outputs": [
    {
     "data": {
      "text/plain": [
       "{'FEATURE_NAME#CFMediaAddedCommentSignal',\n",
       " 'FEATURE_NAME#CFMediaAddedReactionSignal',\n",
       " 'FEATURE_NAME#CFMediaDwellTimeSignal',\n",
       " 'FEATURE_NAME#CFMediaTappedTakenBySignal',\n",
       " 'FEATURE_NAME#CFMediaViewedSignal',\n",
       " 'FEATURE_NAMECFMediaAddedCommentSignal',\n",
       " 'FEATURE_NAMECFMediaAddedReactionSignal',\n",
       " 'FEATURE_NAMECFMediaDwellTimeSignal',\n",
       " 'FEATURE_NAMECFMediaViewedSignal'}"
      ]
     },
     "execution_count": 17,
     "metadata": {},
     "output_type": "execute_result"
    }
   ],
   "source": [
    "sks = set([item[\"sk\"][\"S\"] for item in items])\n",
    "sks"
   ]
  },
  {
   "cell_type": "code",
   "execution_count": 18,
   "metadata": {},
   "outputs": [
    {
     "data": {
      "text/plain": [
       "['MEDIA_ID#01HQ8J9GP57HBQF4ZKZ0DWHJMP',\n",
       " 'MEDIA_ID#01GZJYSEJWDHAN6ACVJ1WZ66YA',\n",
       " 'MEDIA_ID#01GZJYSEJWDHAN6ACVJ1WZ66YA',\n",
       " 'MEDIA_ID#01GZJYSEJWDHAN6ACVJ1WZ66YA',\n",
       " 'USER_ID#80b92820-cb18-41aa-9131-c1c5922d2f13']"
      ]
     },
     "execution_count": 18,
     "metadata": {},
     "output_type": "execute_result"
    }
   ],
   "source": [
    "pks = [item[\"pk\"][\"S\"] for item in items]\n",
    "pks[:5]"
   ]
  },
  {
   "cell_type": "code",
   "execution_count": 19,
   "metadata": {},
   "outputs": [
    {
     "data": {
      "text/plain": [
       "(400,\n",
       " ['MEDIA_ID#01H2B7FZW98XBZVX3YNW2E3Q6A',\n",
       "  'MEDIA_ID#01GZJYP8710GWK65TXRPK4KRCD',\n",
       "  'MEDIA_ID#01HQ63A0324XGVVGXH9494887T',\n",
       "  'MEDIA_ID#01HQ639G3R4GHQH0W3EZYWEGY8',\n",
       "  'MEDIA_ID01GTP5R224XKCM29V0P1M2S7F4'])"
      ]
     },
     "execution_count": 19,
     "metadata": {},
     "output_type": "execute_result"
    }
   ],
   "source": [
    "mediaIds = set([pk for pk in pks if \"MEDIA_ID\" in pk and \"CROSS\" not in pk])\n",
    "len(mediaIds), list(mediaIds)[:5]"
   ]
  },
  {
   "cell_type": "code",
   "execution_count": 20,
   "metadata": {},
   "outputs": [
    {
     "data": {
      "text/plain": [
       "(35,\n",
       " ['TAKEN_BY_ID#12c954c0-2c46-4e65-9bea-49d0c91e18e6',\n",
       "  'TAKEN_BY_ID#db195dfd-87a4-4544-b15a-7795c1488be1',\n",
       "  'TAKEN_BY_ID#b9ee36f5-be85-46f8-802f-a2b72de2ccbb',\n",
       "  'TAKEN_BY_ID#8e44af8b-de96-49cf-8683-b94ac6bd149a',\n",
       "  'TAKEN_BY_ID#ef842ed5-b89f-4143-a64d-159037ef321e'])"
      ]
     },
     "execution_count": 20,
     "metadata": {},
     "output_type": "execute_result"
    }
   ],
   "source": [
    "takenByIds = set([pk for pk in pks if \"TAKEN_BY\" in pk and \"CROSS\" not in pk])\n",
    "len(takenByIds), list(takenByIds)[:5]"
   ]
  },
  {
   "cell_type": "code",
   "execution_count": 21,
   "metadata": {},
   "outputs": [
    {
     "data": {
      "text/plain": [
       "(89,\n",
       " ['USER_ID#09622a3d-ca7c-45c0-b27d-b103a587c600',\n",
       "  'USER_ID#ff2e8247-ad77-4f67-9c6d-e21a9f26526a',\n",
       "  'USER_ID#dc415d7a-8863-4a68-a5a7-82a6cdefdc1e',\n",
       "  'USER_ID#8ba12d31-b71f-4ec6-8a51-6cf90433de52',\n",
       "  'USER_ID#076a42a2-69d4-4809-9910-3b1d42ca78f5'])"
      ]
     },
     "execution_count": 21,
     "metadata": {},
     "output_type": "execute_result"
    }
   ],
   "source": [
    "userIds = set([pk for pk in pks if \"USER_ID\" in pk and \"CROSS\" not in pk])\n",
    "len(userIds), list(userIds)[:5]"
   ]
  },
  {
   "cell_type": "code",
   "execution_count": 23,
   "metadata": {},
   "outputs": [
    {
     "name": "stdout",
     "output_type": "stream",
     "text": [
      "3600\n"
     ]
    }
   ],
   "source": [
    "keys_to_get = []\n",
    "for mediaId in mediaIds:\n",
    "    for sk in sks:\n",
    "        elem = {\"pk\": {\"S\": mediaId}, \"sk\": {\"S\": sk}}\n",
    "        keys_to_get.append(elem)\n",
    "print(len(keys_to_get))"
   ]
  },
  {
   "cell_type": "code",
   "execution_count": 27,
   "metadata": {},
   "outputs": [
    {
     "name": "stdout",
     "output_type": "stream",
     "text": [
      "Total count:  20\n"
     ]
    }
   ],
   "source": [
    "%%timeit\n",
    "request_items = {\n",
    "    table_name: {\n",
    "        'Keys': keys_to_get[:100]\n",
    "    }\n",
    "}\n",
    "response = dynamodb.batch_get_item(RequestItems=request_items)\n",
    "# Print the retrieved items\n",
    "items = response['Responses'][table_name]\n",
    "total_cnt = len(items)\n",
    "print(\"Total count: \", total_cnt)"
   ]
  },
  {
   "cell_type": "code",
   "execution_count": 29,
   "metadata": {},
   "outputs": [],
   "source": [
    "def chunk_keys(keys, chunk_size=100):\n",
    "    \"\"\"Yield successive chunk_size chunks from keys.\"\"\"\n",
    "    for i in range(0, len(keys), chunk_size):\n",
    "        yield keys[i:i + chunk_size]\n",
    "def process_batch(keys_chunk):\n",
    "    request_items = {\n",
    "        table_name: {\n",
    "            'Keys': keys_chunk\n",
    "        }\n",
    "    }\n",
    "    response = dynamodb.batch_get_item(RequestItems=request_items)\n",
    "    return response['Responses'][table_name]\n",
    "\n"
   ]
  },
  {
   "cell_type": "code",
   "execution_count": 31,
   "metadata": {},
   "outputs": [
    {
     "name": "stdout",
     "output_type": "stream",
     "text": [
      "Total count:  729\n"
     ]
    }
   ],
   "source": [
    "%%timeit\n",
    "keys_chunks = list(chunk_keys(keys_to_get))\n",
    "with concurrent.futures.ThreadPoolExecutor() as executor:\n",
    "    # Schedule the process_batch function to be called for each chunk of keys\n",
    "    future_to_chunk = {executor.submit(process_batch, chunk): chunk for chunk in keys_chunks}\n",
    "    \n",
    "    # Initialize a list to hold all retrieved items\n",
    "    all_items = []\n",
    "    \n",
    "    # Process the results as they are completed\n",
    "    for future in concurrent.futures.as_completed(future_to_chunk):\n",
    "        chunk_items = future.result()\n",
    "        all_items.extend(chunk_items)\n",
    "\n",
    "# Now all_items contains the items retrieved from all batches\n",
    "total_cnt = len(all_items)\n",
    "print(\"Total count: \", total_cnt)"
   ]
  },
  {
   "cell_type": "code",
   "execution_count": null,
   "metadata": {},
   "outputs": [],
   "source": []
  }
 ],
 "metadata": {
  "kernelspec": {
   "display_name": "sagemaker",
   "language": "python",
   "name": "python3"
  },
  "language_info": {
   "codemirror_mode": {
    "name": "ipython",
    "version": 3
   },
   "file_extension": ".py",
   "mimetype": "text/x-python",
   "name": "python",
   "nbconvert_exporter": "python",
   "pygments_lexer": "ipython3",
   "version": "3.10.13"
  }
 },
 "nbformat": 4,
 "nbformat_minor": 2
}
